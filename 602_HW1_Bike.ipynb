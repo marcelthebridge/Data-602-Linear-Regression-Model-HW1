{
 "cells": [
  {
   "cell_type": "markdown",
   "metadata": {},
   "source": [
    "# Data Load and Cleaning"
   ]
  },
  {
   "cell_type": "code",
   "execution_count": 5,
   "metadata": {
    "ExecuteTime": {
     "end_time": "2020-09-21T17:44:45.993120Z",
     "start_time": "2020-09-21T17:44:44.901888Z"
    }
   },
   "outputs": [],
   "source": [
    "\"\"\"\n",
    "Importing necessary Libraries\n",
    "\"\"\"\n",
    "\n",
    "import pandas as pd\n",
    "import numpy as np\n",
    "import matplotlib.pyplot as plt\n",
    "import seaborn as sns"
   ]
  },
  {
   "cell_type": "code",
   "execution_count": 6,
   "metadata": {
    "ExecuteTime": {
     "end_time": "2020-09-21T17:48:50.744897Z",
     "start_time": "2020-09-21T17:48:50.723941Z"
    }
   },
   "outputs": [
    {
     "name": "stdout",
     "output_type": "stream",
     "text": [
      "(730, 16)\n"
     ]
    },
    {
     "data": {
      "text/html": [
       "<div>\n",
       "<style scoped>\n",
       "    .dataframe tbody tr th:only-of-type {\n",
       "        vertical-align: middle;\n",
       "    }\n",
       "\n",
       "    .dataframe tbody tr th {\n",
       "        vertical-align: top;\n",
       "    }\n",
       "\n",
       "    .dataframe thead th {\n",
       "        text-align: right;\n",
       "    }\n",
       "</style>\n",
       "<table border=\"1\" class=\"dataframe\">\n",
       "  <thead>\n",
       "    <tr style=\"text-align: right;\">\n",
       "      <th></th>\n",
       "      <th>instant</th>\n",
       "      <th>dteday</th>\n",
       "      <th>season</th>\n",
       "      <th>yr</th>\n",
       "      <th>mnth</th>\n",
       "      <th>holiday</th>\n",
       "      <th>weekday</th>\n",
       "      <th>workingday</th>\n",
       "      <th>weathersit</th>\n",
       "      <th>temp</th>\n",
       "      <th>atemp</th>\n",
       "      <th>hum</th>\n",
       "      <th>windspeed</th>\n",
       "      <th>casual</th>\n",
       "      <th>registered</th>\n",
       "      <th>cnt</th>\n",
       "    </tr>\n",
       "  </thead>\n",
       "  <tbody>\n",
       "    <tr>\n",
       "      <th>0</th>\n",
       "      <td>1</td>\n",
       "      <td>01-01-2018</td>\n",
       "      <td>1</td>\n",
       "      <td>0</td>\n",
       "      <td>1</td>\n",
       "      <td>0</td>\n",
       "      <td>6</td>\n",
       "      <td>0</td>\n",
       "      <td>2</td>\n",
       "      <td>14.110847</td>\n",
       "      <td>18.18125</td>\n",
       "      <td>80.5833</td>\n",
       "      <td>10.749882</td>\n",
       "      <td>331</td>\n",
       "      <td>654</td>\n",
       "      <td>985</td>\n",
       "    </tr>\n",
       "    <tr>\n",
       "      <th>1</th>\n",
       "      <td>2</td>\n",
       "      <td>02-01-2018</td>\n",
       "      <td>1</td>\n",
       "      <td>0</td>\n",
       "      <td>1</td>\n",
       "      <td>0</td>\n",
       "      <td>0</td>\n",
       "      <td>0</td>\n",
       "      <td>2</td>\n",
       "      <td>14.902598</td>\n",
       "      <td>17.68695</td>\n",
       "      <td>69.6087</td>\n",
       "      <td>16.652113</td>\n",
       "      <td>131</td>\n",
       "      <td>670</td>\n",
       "      <td>801</td>\n",
       "    </tr>\n",
       "    <tr>\n",
       "      <th>2</th>\n",
       "      <td>3</td>\n",
       "      <td>03-01-2018</td>\n",
       "      <td>1</td>\n",
       "      <td>0</td>\n",
       "      <td>1</td>\n",
       "      <td>0</td>\n",
       "      <td>1</td>\n",
       "      <td>1</td>\n",
       "      <td>1</td>\n",
       "      <td>8.050924</td>\n",
       "      <td>9.47025</td>\n",
       "      <td>43.7273</td>\n",
       "      <td>16.636703</td>\n",
       "      <td>120</td>\n",
       "      <td>1229</td>\n",
       "      <td>1349</td>\n",
       "    </tr>\n",
       "    <tr>\n",
       "      <th>3</th>\n",
       "      <td>4</td>\n",
       "      <td>04-01-2018</td>\n",
       "      <td>1</td>\n",
       "      <td>0</td>\n",
       "      <td>1</td>\n",
       "      <td>0</td>\n",
       "      <td>2</td>\n",
       "      <td>1</td>\n",
       "      <td>1</td>\n",
       "      <td>8.200000</td>\n",
       "      <td>10.60610</td>\n",
       "      <td>59.0435</td>\n",
       "      <td>10.739832</td>\n",
       "      <td>108</td>\n",
       "      <td>1454</td>\n",
       "      <td>1562</td>\n",
       "    </tr>\n",
       "    <tr>\n",
       "      <th>4</th>\n",
       "      <td>5</td>\n",
       "      <td>05-01-2018</td>\n",
       "      <td>1</td>\n",
       "      <td>0</td>\n",
       "      <td>1</td>\n",
       "      <td>0</td>\n",
       "      <td>3</td>\n",
       "      <td>1</td>\n",
       "      <td>1</td>\n",
       "      <td>9.305237</td>\n",
       "      <td>11.46350</td>\n",
       "      <td>43.6957</td>\n",
       "      <td>12.522300</td>\n",
       "      <td>82</td>\n",
       "      <td>1518</td>\n",
       "      <td>1600</td>\n",
       "    </tr>\n",
       "  </tbody>\n",
       "</table>\n",
       "</div>"
      ],
      "text/plain": [
       "   instant      dteday  season  yr  mnth  holiday  weekday  workingday  \\\n",
       "0        1  01-01-2018       1   0     1        0        6           0   \n",
       "1        2  02-01-2018       1   0     1        0        0           0   \n",
       "2        3  03-01-2018       1   0     1        0        1           1   \n",
       "3        4  04-01-2018       1   0     1        0        2           1   \n",
       "4        5  05-01-2018       1   0     1        0        3           1   \n",
       "\n",
       "   weathersit       temp     atemp      hum  windspeed  casual  registered  \\\n",
       "0           2  14.110847  18.18125  80.5833  10.749882     331         654   \n",
       "1           2  14.902598  17.68695  69.6087  16.652113     131         670   \n",
       "2           1   8.050924   9.47025  43.7273  16.636703     120        1229   \n",
       "3           1   8.200000  10.60610  59.0435  10.739832     108        1454   \n",
       "4           1   9.305237  11.46350  43.6957  12.522300      82        1518   \n",
       "\n",
       "    cnt  \n",
       "0   985  \n",
       "1   801  \n",
       "2  1349  \n",
       "3  1562  \n",
       "4  1600  "
      ]
     },
     "execution_count": 6,
     "metadata": {},
     "output_type": "execute_result"
    }
   ],
   "source": [
    "\"\"\"\n",
    "Loading the csv data\n",
    "csv taken from:   https://www.kaggle.com/bvc5283/bikeshare\n",
    "\"\"\"\n",
    "\n",
    "df_dirty = pd.read_csv(r\"C:\\Users\\marce\\Documents\\Graduate School\\Data 602\\Linear Regression HW\\Bike\\Bikeshare.csv\")\n",
    "df = df_dirty.dropna()\n",
    "\n",
    "print(df.shape)\n",
    "df.head()"
   ]
  },
  {
   "cell_type": "code",
   "execution_count": 7,
   "metadata": {
    "ExecuteTime": {
     "end_time": "2020-09-21T17:48:52.499797Z",
     "start_time": "2020-09-21T17:48:52.492843Z"
    }
   },
   "outputs": [
    {
     "data": {
      "text/plain": [
       "instant         int64\n",
       "dteday         object\n",
       "season          int64\n",
       "yr              int64\n",
       "mnth            int64\n",
       "holiday         int64\n",
       "weekday         int64\n",
       "workingday      int64\n",
       "weathersit      int64\n",
       "temp          float64\n",
       "atemp         float64\n",
       "hum           float64\n",
       "windspeed     float64\n",
       "casual          int64\n",
       "registered      int64\n",
       "cnt             int64\n",
       "dtype: object"
      ]
     },
     "execution_count": 7,
     "metadata": {},
     "output_type": "execute_result"
    }
   ],
   "source": [
    "\"\"\"\n",
    "Checking Dataypes to ensure proper transformations/cleaning can take place\n",
    "\"\"\"\n",
    "\n",
    "df.dtypes"
   ]
  },
  {
   "cell_type": "markdown",
   "metadata": {},
   "source": [
    "# Prelimary plotting, looking for relationships"
   ]
  },
  {
   "cell_type": "code",
   "execution_count": 8,
   "metadata": {
    "ExecuteTime": {
     "end_time": "2020-09-21T17:49:20.709238Z",
     "start_time": "2020-09-21T17:49:20.685302Z"
    }
   },
   "outputs": [
    {
     "data": {
      "text/html": [
       "<div>\n",
       "<style scoped>\n",
       "    .dataframe tbody tr th:only-of-type {\n",
       "        vertical-align: middle;\n",
       "    }\n",
       "\n",
       "    .dataframe tbody tr th {\n",
       "        vertical-align: top;\n",
       "    }\n",
       "\n",
       "    .dataframe thead th {\n",
       "        text-align: right;\n",
       "    }\n",
       "</style>\n",
       "<table border=\"1\" class=\"dataframe\">\n",
       "  <thead>\n",
       "    <tr style=\"text-align: right;\">\n",
       "      <th></th>\n",
       "      <th>temp</th>\n",
       "      <th>atemp</th>\n",
       "      <th>hum</th>\n",
       "      <th>windspeed</th>\n",
       "      <th>casual</th>\n",
       "      <th>registered</th>\n",
       "      <th>cnt</th>\n",
       "    </tr>\n",
       "  </thead>\n",
       "  <tbody>\n",
       "    <tr>\n",
       "      <th>count</th>\n",
       "      <td>730.000000</td>\n",
       "      <td>730.000000</td>\n",
       "      <td>730.000000</td>\n",
       "      <td>730.000000</td>\n",
       "      <td>730.000000</td>\n",
       "      <td>730.000000</td>\n",
       "      <td>730.000000</td>\n",
       "    </tr>\n",
       "    <tr>\n",
       "      <th>mean</th>\n",
       "      <td>20.319259</td>\n",
       "      <td>23.726322</td>\n",
       "      <td>62.765175</td>\n",
       "      <td>12.763620</td>\n",
       "      <td>849.249315</td>\n",
       "      <td>3658.757534</td>\n",
       "      <td>4508.006849</td>\n",
       "    </tr>\n",
       "    <tr>\n",
       "      <th>std</th>\n",
       "      <td>7.506729</td>\n",
       "      <td>8.150308</td>\n",
       "      <td>14.237589</td>\n",
       "      <td>5.195841</td>\n",
       "      <td>686.479875</td>\n",
       "      <td>1559.758728</td>\n",
       "      <td>1936.011647</td>\n",
       "    </tr>\n",
       "    <tr>\n",
       "      <th>min</th>\n",
       "      <td>2.424346</td>\n",
       "      <td>3.953480</td>\n",
       "      <td>0.000000</td>\n",
       "      <td>1.500244</td>\n",
       "      <td>2.000000</td>\n",
       "      <td>20.000000</td>\n",
       "      <td>22.000000</td>\n",
       "    </tr>\n",
       "    <tr>\n",
       "      <th>25%</th>\n",
       "      <td>13.811885</td>\n",
       "      <td>16.889713</td>\n",
       "      <td>52.000000</td>\n",
       "      <td>9.041650</td>\n",
       "      <td>316.250000</td>\n",
       "      <td>2502.250000</td>\n",
       "      <td>3169.750000</td>\n",
       "    </tr>\n",
       "    <tr>\n",
       "      <th>50%</th>\n",
       "      <td>20.465826</td>\n",
       "      <td>24.368225</td>\n",
       "      <td>62.625000</td>\n",
       "      <td>12.125325</td>\n",
       "      <td>717.000000</td>\n",
       "      <td>3664.500000</td>\n",
       "      <td>4548.500000</td>\n",
       "    </tr>\n",
       "    <tr>\n",
       "      <th>75%</th>\n",
       "      <td>26.880615</td>\n",
       "      <td>30.445775</td>\n",
       "      <td>72.989575</td>\n",
       "      <td>15.625589</td>\n",
       "      <td>1096.500000</td>\n",
       "      <td>4783.250000</td>\n",
       "      <td>5966.000000</td>\n",
       "    </tr>\n",
       "    <tr>\n",
       "      <th>max</th>\n",
       "      <td>35.328347</td>\n",
       "      <td>42.044800</td>\n",
       "      <td>97.250000</td>\n",
       "      <td>34.000021</td>\n",
       "      <td>3410.000000</td>\n",
       "      <td>6946.000000</td>\n",
       "      <td>8714.000000</td>\n",
       "    </tr>\n",
       "  </tbody>\n",
       "</table>\n",
       "</div>"
      ],
      "text/plain": [
       "             temp       atemp         hum   windspeed       casual  \\\n",
       "count  730.000000  730.000000  730.000000  730.000000   730.000000   \n",
       "mean    20.319259   23.726322   62.765175   12.763620   849.249315   \n",
       "std      7.506729    8.150308   14.237589    5.195841   686.479875   \n",
       "min      2.424346    3.953480    0.000000    1.500244     2.000000   \n",
       "25%     13.811885   16.889713   52.000000    9.041650   316.250000   \n",
       "50%     20.465826   24.368225   62.625000   12.125325   717.000000   \n",
       "75%     26.880615   30.445775   72.989575   15.625589  1096.500000   \n",
       "max     35.328347   42.044800   97.250000   34.000021  3410.000000   \n",
       "\n",
       "        registered          cnt  \n",
       "count   730.000000   730.000000  \n",
       "mean   3658.757534  4508.006849  \n",
       "std    1559.758728  1936.011647  \n",
       "min      20.000000    22.000000  \n",
       "25%    2502.250000  3169.750000  \n",
       "50%    3664.500000  4548.500000  \n",
       "75%    4783.250000  5966.000000  \n",
       "max    6946.000000  8714.000000  "
      ]
     },
     "execution_count": 8,
     "metadata": {},
     "output_type": "execute_result"
    }
   ],
   "source": [
    "\"\"\"\n",
    "Reducing dataframe to features of interest.\n",
    "df.describe() to get a more detailed understanding of data per feature\n",
    "\"\"\"\n",
    "\n",
    "df = df[['temp', 'atemp' ,'hum','windspeed','casual','registered','cnt']]\n",
    "\n",
    "df.describe()"
   ]
  },
  {
   "cell_type": "code",
   "execution_count": null,
   "metadata": {
    "ExecuteTime": {
     "end_time": "2020-09-21T17:49:20.682355Z",
     "start_time": "2020-09-21T17:48:53.628706Z"
    },
    "scrolled": true
   },
   "outputs": [],
   "source": [
    "\"\"\"\n",
    "Graphing all features against one another to locate any obvious relationships\n",
    "\"\"\"\n",
    "\n",
    "sns.pairplot(df)\n",
    "plt.show()"
   ]
  },
  {
   "cell_type": "code",
   "execution_count": 11,
   "metadata": {
    "ExecuteTime": {
     "end_time": "2020-09-21T17:49:20.901729Z",
     "start_time": "2020-09-21T17:49:20.710235Z"
    }
   },
   "outputs": [
    {
     "data": {
      "text/plain": [
       "<AxesSubplot:>"
      ]
     },
     "execution_count": 11,
     "metadata": {},
     "output_type": "execute_result"
    },
    {
     "data": {
      "image/png": "[encoded data removed]",
      "text/plain": [
       "<Figure size 432x288 with 2 Axes>"
      ]
     },
     "metadata": {
      "needs_background": "light"
     },
     "output_type": "display_data"
    }
   ],
   "source": [
    "sns.heatmap(df.corr())"
   ]
  },
  {
   "cell_type": "markdown",
   "metadata": {},
   "source": [
    "# Creature training and test splits"
   ]
  },
  {
   "cell_type": "code",
   "execution_count": 12,
   "metadata": {
    "ExecuteTime": {
     "end_time": "2020-09-21T17:49:51.381549Z",
     "start_time": "2020-09-21T17:49:50.901446Z"
    },
    "scrolled": true
   },
   "outputs": [
    {
     "name": "stdout",
     "output_type": "stream",
     "text": [
      "Training Data Shape: (584, 7) Testing Data Shape: (146, 7)\n"
     ]
    }
   ],
   "source": [
    "from sklearn.model_selection import train_test_split\n",
    "\n",
    "X_train, X_test = train_test_split(df, test_size = 0.2)\n",
    "\n",
    "print(\"Training Data Shape:\" ,X_train.shape,\"Testing Data Shape:\", X_test.shape)"
   ]
  },
  {
   "cell_type": "markdown",
   "metadata": {
    "ExecuteTime": {
     "end_time": "2020-09-21T15:18:42.237634Z",
     "start_time": "2020-09-21T15:18:41.887806Z"
    }
   },
   "source": [
    "sns.lmplot(x='temp', y='casual', data=df, ci=0)\n",
    "plt.draw()"
   ]
  },
  {
   "cell_type": "code",
   "execution_count": 13,
   "metadata": {
    "ExecuteTime": {
     "end_time": "2020-09-21T17:49:57.583105Z",
     "start_time": "2020-09-21T17:49:57.576123Z"
    }
   },
   "outputs": [
    {
     "data": {
      "text/plain": [
       "array([1104.06114135,  168.81799091])"
      ]
     },
     "execution_count": 13,
     "metadata": {},
     "output_type": "execute_result"
    }
   ],
   "source": [
    "##numpy to solve directly\n",
    "\n",
    "X = np.array(X_train.temp)\n",
    "\n",
    "ones = np.ones(shape=X.shape)\n",
    "\n",
    "X = np.c_[ones, X]\n",
    "X_Trans = X.T\n",
    "\n",
    "np.linalg.inv( X_Trans.dot(X)).dot(X_Trans).dot(X_train.cnt)"
   ]
  },
  {
   "cell_type": "code",
   "execution_count": 14,
   "metadata": {
    "ExecuteTime": {
     "end_time": "2020-09-21T17:49:59.916828Z",
     "start_time": "2020-09-21T17:49:59.864975Z"
    }
   },
   "outputs": [],
   "source": [
    "#Scikitlearn method for solving, super easy\n",
    "\n",
    "from sklearn.linear_model import LinearRegression\n",
    "\n",
    "LineR = LinearRegression()\n"
   ]
  },
  {
   "cell_type": "code",
   "execution_count": 15,
   "metadata": {
    "ExecuteTime": {
     "end_time": "2020-09-21T17:01:48.680879Z",
     "start_time": "2020-09-21T17:01:48.559276Z"
    }
   },
   "outputs": [
    {
     "name": "stdout",
     "output_type": "stream",
     "text": [
      "          temp  registered\n",
      "497  25.112500        3946\n",
      "504  25.454153        4425\n",
      "669  14.999153        5520\n",
      "339  18.962500        2468\n",
      "454  17.390847        3934\n",
      "     casual\n",
      "497    2172\n",
      "504    2704\n",
      "669     466\n",
      "339     126\n",
      "454    2301\n"
     ]
    }
   ],
   "source": [
    "from sklearn.tree import DecisionTreeRegressor as dtr\n",
    "\n",
    "X_tree = X_train[['temp','registered']]\n",
    "Y_tree = X_train[['casual']]\n",
    "\n",
    "print(X_tree.head())\n",
    "print(Y_tree.head())"
   ]
  },
  {
   "cell_type": "markdown",
   "metadata": {},
   "source": [
    "# Gradient Descent"
   ]
  },
  {
   "cell_type": "code",
   "execution_count": 16,
   "metadata": {
    "ExecuteTime": {
     "end_time": "2020-09-21T16:07:12.453496Z",
     "start_time": "2020-09-21T16:07:12.439534Z"
    }
   },
   "outputs": [
    {
     "data": {
      "text/plain": [
       "'from sklearn.linear_model import SGDRegressor\\n\\nsdg_reg = SGDRegressor(max_iter=1000, tol=1e-3, penalty=None, eta0=0.1)\\nsdg_reg.fit(X_train, Ytrain.ravel())'"
      ]
     },
     "execution_count": 16,
     "metadata": {},
     "output_type": "execute_result"
    }
   ],
   "source": [
    "\"\"\"from sklearn.linear_model import SGDRegressor\n",
    "\n",
    "sdg_reg = SGDRegressor(max_iter=1000, tol=1e-3, penalty=None, eta0=0.1)\n",
    "sdg_reg.fit(X_train, Ytrain.ravel())\"\"\""
   ]
  },
  {
   "cell_type": "markdown",
   "metadata": {
    "ExecuteTime": {
     "end_time": "2020-09-21T15:31:04.514369Z",
     "start_time": "2020-09-21T15:31:04.511358Z"
    }
   },
   "source": [
    "# Regression 1 temp, atemp"
   ]
  },
  {
   "cell_type": "code",
   "execution_count": 17,
   "metadata": {},
   "outputs": [
    {
     "name": "stdout",
     "output_type": "stream",
     "text": [
      "873.7403309559327 [ 30.18038269 128.50061196]\n"
     ]
    }
   ],
   "source": [
    "LineR.fit(X_train[[\"temp\",\"atemp\"]] , X_train.cnt)\n",
    "\n",
    "print(LineR.intercept_, LineR.coef_)\n",
    "\n",
    "r_square = LineR.score(X_train[['temp', 'atemp']], X_train.cnt)"
   ]
  },
  {
   "cell_type": "code",
   "execution_count": 18,
   "metadata": {
    "ExecuteTime": {
     "end_time": "2020-09-21T17:54:59.092240Z",
     "start_time": "2020-09-21T17:54:58.785947Z"
    }
   },
   "outputs": [
    {
     "name": "stdout",
     "output_type": "stream",
     "text": [
      "                            OLS Regression Results                            \n",
      "==============================================================================\n",
      "Dep. Variable:                 casual   R-squared:                       0.308\n",
      "Model:                            OLS   Adj. R-squared:                  0.305\n",
      "Method:                 Least Squares   F-statistic:                     129.0\n",
      "Date:                Tue, 22 Sep 2020   Prob (F-statistic):           4.27e-47\n",
      "Time:                        09:16:09   Log-Likelihood:                -4542.7\n",
      "No. Observations:                 584   AIC:                             9091.\n",
      "Df Residuals:                     581   BIC:                             9104.\n",
      "Df Model:                           2                                         \n",
      "Covariance Type:            nonrobust                                         \n",
      "==============================================================================\n",
      "                 coef    std err          t      P>|t|      [0.025      0.975]\n",
      "------------------------------------------------------------------------------\n",
      "const       -218.7352     78.926     -2.771      0.006    -373.751     -63.720\n",
      "temp          20.4749     23.519      0.871      0.384     -25.717      66.667\n",
      "atemp         28.0268     21.601      1.298      0.195     -14.398      70.452\n",
      "==============================================================================\n",
      "Omnibus:                      160.491   Durbin-Watson:                   2.004\n",
      "Prob(Omnibus):                  0.000   Jarque-Bera (JB):              343.993\n",
      "Skew:                           1.490   Prob(JB):                     2.01e-75\n",
      "Kurtosis:                       5.293   Cond. No.                         111.\n",
      "==============================================================================\n",
      "\n",
      "Warnings:\n",
      "[1] Standard Errors assume that the covariance matrix of the errors is correctly specified.\n"
     ]
    }
   ],
   "source": [
    "import statsmodels.api as sm\n",
    "\n",
    "X = X_train[['temp','atemp']]\n",
    "y = X_train.casual\n",
    "X = sm.add_constant(X)\n",
    "mod = sm.OLS(y, X, hasconst= True)\n",
    "res = mod.fit()\n",
    "\n",
    "print(res.summary())"
   ]
  },
  {
   "cell_type": "code",
   "execution_count": 19,
   "metadata": {
    "ExecuteTime": {
     "end_time": "2020-09-21T17:55:06.901644Z",
     "start_time": "2020-09-21T17:55:06.892667Z"
    }
   },
   "outputs": [
    {
     "data": {
      "text/plain": [
       "719     478.371004\n",
       "421     391.608632\n",
       "193    1374.160815\n",
       "225    1224.288197\n",
       "654     794.678584\n",
       "          ...     \n",
       "239    1282.832430\n",
       "526    1310.877888\n",
       "89      367.473200\n",
       "360     513.218719\n",
       "311     701.746103\n",
       "Length: 146, dtype: float64"
      ]
     },
     "execution_count": 19,
     "metadata": {},
     "output_type": "execute_result"
    }
   ],
   "source": [
    "Xtest = X_test[['temp', 'atemp']]\n",
    "ytest = X_test.casual\n",
    "Xtest = sm.add_constant(Xtest)\n",
    "\n",
    "y_predict = res.predict(Xtest)\n",
    "y_predict"
   ]
  },
  {
   "cell_type": "code",
   "execution_count": 20,
   "metadata": {
    "ExecuteTime": {
     "end_time": "2020-09-21T17:55:46.601850Z",
     "start_time": "2020-09-21T17:55:46.589882Z"
    }
   },
   "outputs": [
    {
     "data": {
      "text/html": [
       "<div>\n",
       "<style scoped>\n",
       "    .dataframe tbody tr th:only-of-type {\n",
       "        vertical-align: middle;\n",
       "    }\n",
       "\n",
       "    .dataframe tbody tr th {\n",
       "        vertical-align: top;\n",
       "    }\n",
       "\n",
       "    .dataframe thead th {\n",
       "        text-align: right;\n",
       "    }\n",
       "</style>\n",
       "<table border=\"1\" class=\"dataframe\">\n",
       "  <thead>\n",
       "    <tr style=\"text-align: right;\">\n",
       "      <th></th>\n",
       "      <th>temp</th>\n",
       "      <th>atemp</th>\n",
       "      <th>hum</th>\n",
       "      <th>windspeed</th>\n",
       "      <th>casual</th>\n",
       "      <th>registered</th>\n",
       "      <th>cnt</th>\n",
       "    </tr>\n",
       "  </thead>\n",
       "  <tbody>\n",
       "    <tr>\n",
       "      <th>719</th>\n",
       "      <td>13.393347</td>\n",
       "      <td>15.08835</td>\n",
       "      <td>55.6667</td>\n",
       "      <td>25.083661</td>\n",
       "      <td>221</td>\n",
       "      <td>3402</td>\n",
       "      <td>3623</td>\n",
       "    </tr>\n",
       "    <tr>\n",
       "      <th>421</th>\n",
       "      <td>11.445847</td>\n",
       "      <td>13.41540</td>\n",
       "      <td>41.0000</td>\n",
       "      <td>13.750343</td>\n",
       "      <td>515</td>\n",
       "      <td>2874</td>\n",
       "      <td>3389</td>\n",
       "    </tr>\n",
       "    <tr>\n",
       "      <th>193</th>\n",
       "      <td>30.613347</td>\n",
       "      <td>34.47020</td>\n",
       "      <td>63.1667</td>\n",
       "      <td>9.790911</td>\n",
       "      <td>748</td>\n",
       "      <td>3594</td>\n",
       "      <td>4342</td>\n",
       "    </tr>\n",
       "    <tr>\n",
       "      <th>225</th>\n",
       "      <td>27.743347</td>\n",
       "      <td>31.21940</td>\n",
       "      <td>81.7500</td>\n",
       "      <td>14.916411</td>\n",
       "      <td>1338</td>\n",
       "      <td>2482</td>\n",
       "      <td>3820</td>\n",
       "    </tr>\n",
       "    <tr>\n",
       "      <th>654</th>\n",
       "      <td>18.689153</td>\n",
       "      <td>22.50540</td>\n",
       "      <td>69.2917</td>\n",
       "      <td>6.791857</td>\n",
       "      <td>979</td>\n",
       "      <td>6482</td>\n",
       "      <td>7461</td>\n",
       "    </tr>\n",
       "    <tr>\n",
       "      <th>...</th>\n",
       "      <td>...</td>\n",
       "      <td>...</td>\n",
       "      <td>...</td>\n",
       "      <td>...</td>\n",
       "      <td>...</td>\n",
       "      <td>...</td>\n",
       "      <td>...</td>\n",
       "    </tr>\n",
       "    <tr>\n",
       "      <th>239</th>\n",
       "      <td>28.989419</td>\n",
       "      <td>32.39795</td>\n",
       "      <td>56.1765</td>\n",
       "      <td>20.412153</td>\n",
       "      <td>1415</td>\n",
       "      <td>2919</td>\n",
       "      <td>4334</td>\n",
       "    </tr>\n",
       "    <tr>\n",
       "      <th>526</th>\n",
       "      <td>29.554153</td>\n",
       "      <td>32.98605</td>\n",
       "      <td>58.7917</td>\n",
       "      <td>13.916771</td>\n",
       "      <td>1017</td>\n",
       "      <td>5647</td>\n",
       "      <td>6664</td>\n",
       "    </tr>\n",
       "    <tr>\n",
       "      <th>89</th>\n",
       "      <td>11.001653</td>\n",
       "      <td>12.87875</td>\n",
       "      <td>91.8333</td>\n",
       "      <td>14.582282</td>\n",
       "      <td>179</td>\n",
       "      <td>1506</td>\n",
       "      <td>1685</td>\n",
       "    </tr>\n",
       "    <tr>\n",
       "      <th>360</th>\n",
       "      <td>13.325000</td>\n",
       "      <td>16.38165</td>\n",
       "      <td>76.2500</td>\n",
       "      <td>12.626150</td>\n",
       "      <td>103</td>\n",
       "      <td>1059</td>\n",
       "      <td>1162</td>\n",
       "    </tr>\n",
       "    <tr>\n",
       "      <th>311</th>\n",
       "      <td>16.741653</td>\n",
       "      <td>20.61230</td>\n",
       "      <td>72.1667</td>\n",
       "      <td>4.625513</td>\n",
       "      <td>376</td>\n",
       "      <td>3829</td>\n",
       "      <td>4205</td>\n",
       "    </tr>\n",
       "  </tbody>\n",
       "</table>\n",
       "<p>146 rows × 7 columns</p>\n",
       "</div>"
      ],
      "text/plain": [
       "          temp     atemp      hum  windspeed  casual  registered   cnt\n",
       "719  13.393347  15.08835  55.6667  25.083661     221        3402  3623\n",
       "421  11.445847  13.41540  41.0000  13.750343     515        2874  3389\n",
       "193  30.613347  34.47020  63.1667   9.790911     748        3594  4342\n",
       "225  27.743347  31.21940  81.7500  14.916411    1338        2482  3820\n",
       "654  18.689153  22.50540  69.2917   6.791857     979        6482  7461\n",
       "..         ...       ...      ...        ...     ...         ...   ...\n",
       "239  28.989419  32.39795  56.1765  20.412153    1415        2919  4334\n",
       "526  29.554153  32.98605  58.7917  13.916771    1017        5647  6664\n",
       "89   11.001653  12.87875  91.8333  14.582282     179        1506  1685\n",
       "360  13.325000  16.38165  76.2500  12.626150     103        1059  1162\n",
       "311  16.741653  20.61230  72.1667   4.625513     376        3829  4205\n",
       "\n",
       "[146 rows x 7 columns]"
      ]
     },
     "execution_count": 20,
     "metadata": {},
     "output_type": "execute_result"
    }
   ],
   "source": [
    "X_test"
   ]
  },
  {
   "cell_type": "code",
   "execution_count": 21,
   "metadata": {
    "ExecuteTime": {
     "end_time": "2020-09-21T17:55:09.489606Z",
     "start_time": "2020-09-21T17:55:09.348366Z"
    }
   },
   "outputs": [
    {
     "data": {
      "image/png": "[encoded data removed]",
      "text/plain": [
       "<Figure size 432x288 with 1 Axes>"
      ]
     },
     "metadata": {
      "needs_background": "light"
     },
     "output_type": "display_data"
    }
   ],
   "source": [
    "residuals = res.resid\n",
    "\n",
    "y_pred = res.predict(X)\n",
    "plt.scatter(y_pred, residuals)\n",
    "plt.axhline(y=0, color='red', label='0')\n",
    "\n",
    "plt.xlabel('predicted values')\n",
    "plt.ylabel('residuals')\n",
    "\n",
    "plt.tight_layout()"
   ]
  },
  {
   "cell_type": "markdown",
   "metadata": {},
   "source": [
    "# Regression2 Registered"
   ]
  },
  {
   "cell_type": "code",
   "execution_count": 22,
   "metadata": {},
   "outputs": [
    {
     "name": "stdout",
     "output_type": "stream",
     "text": [
      "204.93440198116514 [1.17917888]\n"
     ]
    }
   ],
   "source": [
    "LineR.fit(X_train[[\"registered\"]] , X_train.cnt)\n",
    "\n",
    "print(LineR.intercept_, LineR.coef_)\n",
    "\n",
    "r_square = LineR.score(X_train[['registered']], X_train.cnt)"
   ]
  },
  {
   "cell_type": "code",
   "execution_count": 23,
   "metadata": {
    "ExecuteTime": {
     "end_time": "2020-09-21T17:58:17.781469Z",
     "start_time": "2020-09-21T17:58:17.761522Z"
    }
   },
   "outputs": [
    {
     "name": "stdout",
     "output_type": "stream",
     "text": [
      "                            OLS Regression Results                            \n",
      "==============================================================================\n",
      "Dep. Variable:                    cnt   R-squared:                       0.896\n",
      "Model:                            OLS   Adj. R-squared:                  0.896\n",
      "Method:                 Least Squares   F-statistic:                     5039.\n",
      "Date:                Tue, 22 Sep 2020   Prob (F-statistic):          8.89e-289\n",
      "Time:                        09:16:09   Log-Likelihood:                -4596.8\n",
      "No. Observations:                 584   AIC:                             9198.\n",
      "Df Residuals:                     582   BIC:                             9206.\n",
      "Df Model:                           1                                         \n",
      "Covariance Type:            nonrobust                                         \n",
      "==============================================================================\n",
      "                 coef    std err          t      P>|t|      [0.025      0.975]\n",
      "------------------------------------------------------------------------------\n",
      "const        204.9344     66.489      3.082      0.002      74.347     335.522\n",
      "registered     1.1792      0.017     70.983      0.000       1.147       1.212\n",
      "==============================================================================\n",
      "Omnibus:                      143.657   Durbin-Watson:                   1.974\n",
      "Prob(Omnibus):                  0.000   Jarque-Bera (JB):              261.594\n",
      "Skew:                           1.462   Prob(JB):                     1.57e-57\n",
      "Kurtosis:                       4.483   Cond. No.                     1.01e+04\n",
      "==============================================================================\n",
      "\n",
      "Warnings:\n",
      "[1] Standard Errors assume that the covariance matrix of the errors is correctly specified.\n",
      "[2] The condition number is large, 1.01e+04. This might indicate that there are\n",
      "strong multicollinearity or other numerical problems.\n"
     ]
    }
   ],
   "source": [
    "import statsmodels.api as sm\n",
    "\n",
    "X = X_train[['registered']]\n",
    "y = X_train.cnt\n",
    "X = sm.add_constant(X)\n",
    "mod = sm.OLS(y, X, hasconst= True)\n",
    "res = mod.fit()\n",
    "\n",
    "print(res.summary())"
   ]
  },
  {
   "cell_type": "code",
   "execution_count": 24,
   "metadata": {
    "ExecuteTime": {
     "end_time": "2020-09-21T17:58:21.908624Z",
     "start_time": "2020-09-21T17:58:21.902636Z"
    }
   },
   "outputs": [
    {
     "name": "stdout",
     "output_type": "stream",
     "text": [
      "719    4216.500951\n",
      "421    3593.894503\n",
      "193    4442.903296\n",
      "225    3131.656382\n",
      "654    7848.371901\n",
      "          ...     \n",
      "239    3646.957552\n",
      "526    6863.757536\n",
      "89     1980.777795\n",
      "360    1453.684836\n",
      "311    4720.010333\n",
      "Length: 146, dtype: float64\n"
     ]
    }
   ],
   "source": [
    "Xtest = X_test[['registered']]\n",
    "ytest = X_test.cnt\n",
    "Xtest = sm.add_constant(Xtest)\n",
    "\n",
    "y_predict = res.predict(Xtest)\n",
    "print(y_predict)"
   ]
  },
  {
   "cell_type": "code",
   "execution_count": 25,
   "metadata": {
    "ExecuteTime": {
     "end_time": "2020-09-21T15:57:44.944105Z",
     "start_time": "2020-09-21T15:57:44.740650Z"
    }
   },
   "outputs": [
    {
     "data": {
      "image/png": "[encoded data removed]",
      "text/plain": [
       "<Figure size 432x288 with 1 Axes>"
      ]
     },
     "metadata": {
      "needs_background": "light"
     },
     "output_type": "display_data"
    }
   ],
   "source": [
    "residuals = res.resid\n",
    "\n",
    "y_pred = res.predict(X)\n",
    "plt.scatter(y_pred, residuals)\n",
    "plt.axhline(y=0, color='red', label='0')\n",
    "\n",
    "plt.xlabel('predicted values')\n",
    "plt.ylabel('residuals')\n",
    "\n",
    "plt.tight_layout()"
   ]
  },
  {
   "cell_type": "markdown",
   "metadata": {},
   "source": [
    "# Regression 3 Casual"
   ]
  },
  {
   "cell_type": "code",
   "execution_count": 26,
   "metadata": {},
   "outputs": [
    {
     "name": "stdout",
     "output_type": "stream",
     "text": [
      "2873.382423500726 [1.92975864]\n"
     ]
    }
   ],
   "source": [
    "LineR.fit(X_train[[\"casual\"]] , X_train.cnt)\n",
    "\n",
    "print(LineR.intercept_, LineR.coef_)\n",
    "\n",
    "r_square = LineR.score(X_train[['casual']], X_train.cnt)"
   ]
  },
  {
   "cell_type": "code",
   "execution_count": 27,
   "metadata": {
    "ExecuteTime": {
     "end_time": "2020-09-21T15:57:44.963054Z",
     "start_time": "2020-09-21T15:57:44.945103Z"
    }
   },
   "outputs": [
    {
     "name": "stdout",
     "output_type": "stream",
     "text": [
      "                            OLS Regression Results                            \n",
      "==============================================================================\n",
      "Dep. Variable:                    cnt   R-squared:                       0.463\n",
      "Model:                            OLS   Adj. R-squared:                  0.462\n",
      "Method:                 Least Squares   F-statistic:                     501.2\n",
      "Date:                Tue, 22 Sep 2020   Prob (F-statistic):           1.52e-80\n",
      "Time:                        09:16:10   Log-Likelihood:                -5077.6\n",
      "No. Observations:                 584   AIC:                         1.016e+04\n",
      "Df Residuals:                     582   BIC:                         1.017e+04\n",
      "Df Model:                           1                                         \n",
      "Covariance Type:            nonrobust                                         \n",
      "==============================================================================\n",
      "                 coef    std err          t      P>|t|      [0.025      0.975]\n",
      "------------------------------------------------------------------------------\n",
      "const       2873.3824     95.539     30.076      0.000    2685.740    3061.025\n",
      "casual         1.9298      0.086     22.387      0.000       1.760       2.099\n",
      "==============================================================================\n",
      "Omnibus:                       74.996   Durbin-Watson:                   1.923\n",
      "Prob(Omnibus):                  0.000   Jarque-Bera (JB):               23.910\n",
      "Skew:                           0.216   Prob(JB):                     6.43e-06\n",
      "Kurtosis:                       2.108   Cond. No.                     1.77e+03\n",
      "==============================================================================\n",
      "\n",
      "Warnings:\n",
      "[1] Standard Errors assume that the covariance matrix of the errors is correctly specified.\n",
      "[2] The condition number is large, 1.77e+03. This might indicate that there are\n",
      "strong multicollinearity or other numerical problems.\n"
     ]
    }
   ],
   "source": [
    "import statsmodels.api as sm\n",
    "\n",
    "X = X_train[['casual']]\n",
    "y = X_train.cnt\n",
    "X = sm.add_constant(X)\n",
    "mod = sm.OLS(y, X, hasconst= True)\n",
    "res = mod.fit()\n",
    "\n",
    "print(res.summary())"
   ]
  },
  {
   "cell_type": "code",
   "execution_count": 28,
   "metadata": {
    "ExecuteTime": {
     "end_time": "2020-09-21T15:57:44.976021Z",
     "start_time": "2020-09-21T15:57:44.965049Z"
    }
   },
   "outputs": [
    {
     "name": "stdout",
     "output_type": "stream",
     "text": [
      "719    3299.859084\n",
      "421    3867.208125\n",
      "193    4316.841889\n",
      "225    5455.399489\n",
      "654    4762.616136\n",
      "          ...     \n",
      "239    5603.990904\n",
      "526    4835.946964\n",
      "89     3218.809221\n",
      "360    3072.147564\n",
      "311    3598.971674\n",
      "Length: 146, dtype: float64\n"
     ]
    }
   ],
   "source": [
    "Xtest = X_test[['casual']]\n",
    "ytest = X_test.cnt\n",
    "Xtest = sm.add_constant(Xtest)\n",
    "\n",
    "y_predict = res.predict(Xtest)\n",
    "print(y_predict)"
   ]
  },
  {
   "cell_type": "code",
   "execution_count": 29,
   "metadata": {
    "ExecuteTime": {
     "end_time": "2020-09-21T15:57:45.159529Z",
     "start_time": "2020-09-21T15:57:44.979012Z"
    }
   },
   "outputs": [
    {
     "data": {
      "image/png": "[encoded data removed]",
      "text/plain": [
       "<Figure size 432x288 with 1 Axes>"
      ]
     },
     "metadata": {
      "needs_background": "light"
     },
     "output_type": "display_data"
    }
   ],
   "source": [
    "residuals = res.resid\n",
    "\n",
    "y_pred = res.predict(X)\n",
    "plt.scatter(y_pred, residuals)\n",
    "plt.axhline(y=0, color='red', label='0')\n",
    "\n",
    "plt.xlabel('predicted values')\n",
    "plt.ylabel('residuals')\n",
    "\n",
    "plt.tight_layout()"
   ]
  },
  {
   "cell_type": "markdown",
   "metadata": {},
   "source": [
    "# Regression 4, polynomial"
   ]
  },
  {
   "cell_type": "code",
   "execution_count": 30,
   "metadata": {
    "ExecuteTime": {
     "end_time": "2020-09-21T15:57:45.181469Z",
     "start_time": "2020-09-21T15:57:45.160526Z"
    },
    "collapsed": true
   },
   "outputs": [
    {
     "name": "stdout",
     "output_type": "stream",
     "text": [
      "                            OLS Regression Results                            \n",
      "==============================================================================\n",
      "Dep. Variable:                    cnt   R-squared:                       1.000\n",
      "Model:                            OLS   Adj. R-squared:                  1.000\n",
      "Method:                 Least Squares   F-statistic:                 1.205e+32\n",
      "Date:                Tue, 22 Sep 2020   Prob (F-statistic):               0.00\n",
      "Time:                        09:16:10   Log-Likelihood:                 14774.\n",
      "No. Observations:                 584   AIC:                        -2.954e+04\n",
      "Df Residuals:                     580   BIC:                        -2.952e+04\n",
      "Df Model:                           3                                         \n",
      "Covariance Type:            nonrobust                                         \n",
      "==============================================================================\n",
      "                 coef    std err          t      P>|t|      [0.025      0.975]\n",
      "------------------------------------------------------------------------------\n",
      "const      -3.979e-12   3.17e-13    -12.545      0.000    -4.6e-12   -3.36e-12\n",
      "temp        1.013e-13   1.84e-14      5.515      0.000    6.52e-14    1.37e-13\n",
      "casual         1.0000   1.81e-16   5.53e+15      0.000       1.000       1.000\n",
      "registered     1.0000   8.02e-17   1.25e+16      0.000       1.000       1.000\n",
      "==============================================================================\n",
      "Omnibus:                       29.507   Durbin-Watson:                   0.145\n",
      "Prob(Omnibus):                  0.000   Jarque-Bera (JB):               12.395\n",
      "Skew:                          -0.061   Prob(JB):                      0.00203\n",
      "Kurtosis:                       2.297   Cond. No.                     1.26e+04\n",
      "==============================================================================\n",
      "\n",
      "Warnings:\n",
      "[1] Standard Errors assume that the covariance matrix of the errors is correctly specified.\n",
      "[2] The condition number is large, 1.26e+04. This might indicate that there are\n",
      "strong multicollinearity or other numerical problems.\n"
     ]
    }
   ],
   "source": [
    "import statsmodels.api as sm\n",
    "\n",
    "X = X_train[['temp', 'casual', 'registered']]\n",
    "y = X_train.cnt\n",
    "X = sm.add_constant(X)\n",
    "mod = sm.OLS(y, X, hasconst= True)\n",
    "res = mod.fit()\n",
    "\n",
    "print(res.summary())"
   ]
  },
  {
   "cell_type": "code",
   "execution_count": 60,
   "metadata": {
    "ExecuteTime": {
     "end_time": "2020-09-21T15:58:36.210318Z",
     "start_time": "2020-09-21T15:58:36.201323Z"
    }
   },
   "outputs": [
    {
     "name": "stdout",
     "output_type": "stream",
     "text": [
      "719    3623.0\n",
      "421    3389.0\n",
      "193    4342.0\n",
      "225    3820.0\n",
      "654    7461.0\n",
      "        ...  \n",
      "239    4334.0\n",
      "526    6664.0\n",
      "89     1685.0\n",
      "360    1162.0\n",
      "311    4205.0\n",
      "Length: 146, dtype: float64\n"
     ]
    },
    {
     "name": "stderr",
     "output_type": "stream",
     "text": [
      "C:\\Users\\marce\\anaconda3\\lib\\site-packages\\ipykernel_launcher.py:7: SettingWithCopyWarning: \n",
      "A value is trying to be set on a copy of a slice from a DataFrame.\n",
      "Try using .loc[row_indexer,col_indexer] = value instead\n",
      "\n",
      "See the caveats in the documentation: https://pandas.pydata.org/pandas-docs/stable/user_guide/indexing.html#returning-a-view-versus-a-copy\n",
      "  import sys\n"
     ]
    }
   ],
   "source": [
    "Xtest = X_test[['temp','casual', 'registered']]\n",
    "ytest = X_test.cnt\n",
    "Xtest = sm.add_constant(Xtest)\n",
    "\n",
    "\n",
    "y_predict = res.predict(Xtest)\n",
    "\n",
    "print(y_predict)"
   ]
  },
  {
   "cell_type": "code",
   "execution_count": 61,
   "metadata": {
    "ExecuteTime": {
     "end_time": "2020-09-21T15:58:40.062291Z",
     "start_time": "2020-09-21T15:58:40.050348Z"
    }
   },
   "outputs": [
    {
     "data": {
      "text/html": [
       "<div>\n",
       "<style scoped>\n",
       "    .dataframe tbody tr th:only-of-type {\n",
       "        vertical-align: middle;\n",
       "    }\n",
       "\n",
       "    .dataframe tbody tr th {\n",
       "        vertical-align: top;\n",
       "    }\n",
       "\n",
       "    .dataframe thead th {\n",
       "        text-align: right;\n",
       "    }\n",
       "</style>\n",
       "<table border=\"1\" class=\"dataframe\">\n",
       "  <thead>\n",
       "    <tr style=\"text-align: right;\">\n",
       "      <th></th>\n",
       "      <th>temp</th>\n",
       "      <th>atemp</th>\n",
       "      <th>hum</th>\n",
       "      <th>windspeed</th>\n",
       "      <th>casual</th>\n",
       "      <th>registered</th>\n",
       "      <th>cnt</th>\n",
       "      <th>Predicted</th>\n",
       "    </tr>\n",
       "  </thead>\n",
       "  <tbody>\n",
       "    <tr>\n",
       "      <th>719</th>\n",
       "      <td>13.393347</td>\n",
       "      <td>15.08835</td>\n",
       "      <td>55.6667</td>\n",
       "      <td>25.083661</td>\n",
       "      <td>221</td>\n",
       "      <td>3402</td>\n",
       "      <td>3623</td>\n",
       "      <td>3623.0</td>\n",
       "    </tr>\n",
       "    <tr>\n",
       "      <th>421</th>\n",
       "      <td>11.445847</td>\n",
       "      <td>13.41540</td>\n",
       "      <td>41.0000</td>\n",
       "      <td>13.750343</td>\n",
       "      <td>515</td>\n",
       "      <td>2874</td>\n",
       "      <td>3389</td>\n",
       "      <td>3389.0</td>\n",
       "    </tr>\n",
       "    <tr>\n",
       "      <th>193</th>\n",
       "      <td>30.613347</td>\n",
       "      <td>34.47020</td>\n",
       "      <td>63.1667</td>\n",
       "      <td>9.790911</td>\n",
       "      <td>748</td>\n",
       "      <td>3594</td>\n",
       "      <td>4342</td>\n",
       "      <td>4342.0</td>\n",
       "    </tr>\n",
       "    <tr>\n",
       "      <th>225</th>\n",
       "      <td>27.743347</td>\n",
       "      <td>31.21940</td>\n",
       "      <td>81.7500</td>\n",
       "      <td>14.916411</td>\n",
       "      <td>1338</td>\n",
       "      <td>2482</td>\n",
       "      <td>3820</td>\n",
       "      <td>3820.0</td>\n",
       "    </tr>\n",
       "    <tr>\n",
       "      <th>654</th>\n",
       "      <td>18.689153</td>\n",
       "      <td>22.50540</td>\n",
       "      <td>69.2917</td>\n",
       "      <td>6.791857</td>\n",
       "      <td>979</td>\n",
       "      <td>6482</td>\n",
       "      <td>7461</td>\n",
       "      <td>7461.0</td>\n",
       "    </tr>\n",
       "    <tr>\n",
       "      <th>...</th>\n",
       "      <td>...</td>\n",
       "      <td>...</td>\n",
       "      <td>...</td>\n",
       "      <td>...</td>\n",
       "      <td>...</td>\n",
       "      <td>...</td>\n",
       "      <td>...</td>\n",
       "      <td>...</td>\n",
       "    </tr>\n",
       "    <tr>\n",
       "      <th>239</th>\n",
       "      <td>28.989419</td>\n",
       "      <td>32.39795</td>\n",
       "      <td>56.1765</td>\n",
       "      <td>20.412153</td>\n",
       "      <td>1415</td>\n",
       "      <td>2919</td>\n",
       "      <td>4334</td>\n",
       "      <td>4334.0</td>\n",
       "    </tr>\n",
       "    <tr>\n",
       "      <th>526</th>\n",
       "      <td>29.554153</td>\n",
       "      <td>32.98605</td>\n",
       "      <td>58.7917</td>\n",
       "      <td>13.916771</td>\n",
       "      <td>1017</td>\n",
       "      <td>5647</td>\n",
       "      <td>6664</td>\n",
       "      <td>6664.0</td>\n",
       "    </tr>\n",
       "    <tr>\n",
       "      <th>89</th>\n",
       "      <td>11.001653</td>\n",
       "      <td>12.87875</td>\n",
       "      <td>91.8333</td>\n",
       "      <td>14.582282</td>\n",
       "      <td>179</td>\n",
       "      <td>1506</td>\n",
       "      <td>1685</td>\n",
       "      <td>1685.0</td>\n",
       "    </tr>\n",
       "    <tr>\n",
       "      <th>360</th>\n",
       "      <td>13.325000</td>\n",
       "      <td>16.38165</td>\n",
       "      <td>76.2500</td>\n",
       "      <td>12.626150</td>\n",
       "      <td>103</td>\n",
       "      <td>1059</td>\n",
       "      <td>1162</td>\n",
       "      <td>1162.0</td>\n",
       "    </tr>\n",
       "    <tr>\n",
       "      <th>311</th>\n",
       "      <td>16.741653</td>\n",
       "      <td>20.61230</td>\n",
       "      <td>72.1667</td>\n",
       "      <td>4.625513</td>\n",
       "      <td>376</td>\n",
       "      <td>3829</td>\n",
       "      <td>4205</td>\n",
       "      <td>4205.0</td>\n",
       "    </tr>\n",
       "  </tbody>\n",
       "</table>\n",
       "<p>146 rows × 8 columns</p>\n",
       "</div>"
      ],
      "text/plain": [
       "          temp     atemp      hum  windspeed  casual  registered   cnt  \\\n",
       "719  13.393347  15.08835  55.6667  25.083661     221        3402  3623   \n",
       "421  11.445847  13.41540  41.0000  13.750343     515        2874  3389   \n",
       "193  30.613347  34.47020  63.1667   9.790911     748        3594  4342   \n",
       "225  27.743347  31.21940  81.7500  14.916411    1338        2482  3820   \n",
       "654  18.689153  22.50540  69.2917   6.791857     979        6482  7461   \n",
       "..         ...       ...      ...        ...     ...         ...   ...   \n",
       "239  28.989419  32.39795  56.1765  20.412153    1415        2919  4334   \n",
       "526  29.554153  32.98605  58.7917  13.916771    1017        5647  6664   \n",
       "89   11.001653  12.87875  91.8333  14.582282     179        1506  1685   \n",
       "360  13.325000  16.38165  76.2500  12.626150     103        1059  1162   \n",
       "311  16.741653  20.61230  72.1667   4.625513     376        3829  4205   \n",
       "\n",
       "     Predicted  \n",
       "719     3623.0  \n",
       "421     3389.0  \n",
       "193     4342.0  \n",
       "225     3820.0  \n",
       "654     7461.0  \n",
       "..         ...  \n",
       "239     4334.0  \n",
       "526     6664.0  \n",
       "89      1685.0  \n",
       "360     1162.0  \n",
       "311     4205.0  \n",
       "\n",
       "[146 rows x 8 columns]"
      ]
     },
     "execution_count": 61,
     "metadata": {},
     "output_type": "execute_result"
    }
   ],
   "source": [
    "X_test"
   ]
  },
  {
   "cell_type": "code",
   "execution_count": 33,
   "metadata": {
    "ExecuteTime": {
     "end_time": "2020-09-21T15:58:57.690408Z",
     "start_time": "2020-09-21T15:58:57.564769Z"
    }
   },
   "outputs": [
    {
     "data": {
      "image/png": "[encoded data removed]",
      "text/plain": [
       "<Figure size 432x288 with 1 Axes>"
      ]
     },
     "metadata": {
      "needs_background": "light"
     },
     "output_type": "display_data"
    }
   ],
   "source": [
    "residuals = res.resid\n",
    "\n",
    "y_pred = res.predict(X)\n",
    "plt.scatter(y_pred, residuals)\n",
    "plt.axhline(y=0, color='red', label='0')\n",
    "\n",
    "plt.xlabel('predicted values')\n",
    "plt.ylabel('residuals')\n",
    "\n",
    "plt.tight_layout()"
   ]
  },
  {
   "cell_type": "markdown",
   "metadata": {},
   "source": [
    "# Function list"
   ]
  },
  {
   "cell_type": "code",
   "execution_count": 58,
   "metadata": {},
   "outputs": [],
   "source": [
    "def LR_fit(train, test, feat):\n",
    "        \n",
    "    LineR.fit(train[feat] , train.cnt)\n",
    "    print(\"Intercept::\", LineR.intercept_, \"Coefficient\", LineR.coef_)\n",
    "    r_square = LineR.score(train[feat], train.cnt)\n",
    "    print(\"R-squared value: \", r_square)\n",
    "    \n",
    "    X = train[feat]\n",
    "    y = train.cnt\n",
    "    X = sm.add_constant(X)\n",
    "    mod = sm.OLS(y, X, hasconst= True)\n",
    "    res = mod.fit()\n",
    "    print(res.summary())\n",
    "    \n",
    "    Xtest = test[feat]\n",
    "    ytest = test.cnt\n",
    "    Xtest = sm.add_constant(Xtest)\n",
    "    y_predict = res.predict(Xtest)\n",
    "    print(\"Predicted y values\", y_predict)    \n",
    "    residuals = res.resid\n",
    "\n",
    "    y_pred = res.predict(X)\n",
    "    plt.scatter(y_pred, residuals)\n",
    "    plt.axhline(y=0, color='red', label='0')\n",
    "    plt.xlabel('predicted values')\n",
    "    plt.ylabel('residuals')\n",
    "    plt.tight_layout()"
   ]
  },
  {
   "cell_type": "code",
   "execution_count": 59,
   "metadata": {},
   "outputs": [
    {
     "name": "stdout",
     "output_type": "stream",
     "text": [
      "Intercept:: 1159.1131612118866 Coefficient [ 3.46781064 91.93540545  1.30464962]\n",
      "R-squared value:  0.572386056412274\n",
      "                            OLS Regression Results                            \n",
      "==============================================================================\n",
      "Dep. Variable:                    cnt   R-squared:                       0.572\n",
      "Model:                            OLS   Adj. R-squared:                  0.570\n",
      "Method:                 Least Squares   F-statistic:                     258.8\n",
      "Date:                Tue, 22 Sep 2020   Prob (F-statistic):          1.47e-106\n",
      "Time:                        09:43:19   Log-Likelihood:                -5010.9\n",
      "No. Observations:                 584   AIC:                         1.003e+04\n",
      "Df Residuals:                     580   BIC:                         1.005e+04\n",
      "Df Model:                           3                                         \n",
      "Covariance Type:            nonrobust                                         \n",
      "==============================================================================\n",
      "                 coef    std err          t      P>|t|      [0.025      0.975]\n",
      "------------------------------------------------------------------------------\n",
      "const       1159.1132    177.272      6.539      0.000     810.939    1507.287\n",
      "temp           3.4678     52.513      0.066      0.947     -99.671     106.606\n",
      "atemp         91.9354     48.268      1.905      0.057      -2.866     186.737\n",
      "casual         1.3046      0.093     14.093      0.000       1.123       1.486\n",
      "==============================================================================\n",
      "Omnibus:                       35.655   Durbin-Watson:                   1.956\n",
      "Prob(Omnibus):                  0.000   Jarque-Bera (JB):               18.852\n",
      "Skew:                           0.266   Prob(JB):                     8.06e-05\n",
      "Kurtosis:                       2.299   Cond. No.                     3.74e+03\n",
      "==============================================================================\n",
      "\n",
      "Warnings:\n",
      "[1] Standard Errors assume that the covariance matrix of the errors is correctly specified.\n",
      "[2] The condition number is large, 3.74e+03. This might indicate that there are\n",
      "strong multicollinearity or other numerical problems.\n",
      "Predicted y values 719    2881.039894\n",
      "421    3104.049985\n",
      "193    5410.184182\n",
      "225    5871.111227\n",
      "654    4570.218659\n",
      "          ...     \n",
      "239    6084.240861\n",
      "526    5621.015914\n",
      "89     2614.810196\n",
      "360    2845.754284\n",
      "311    3602.718459\n",
      "Length: 146, dtype: float64\n"
     ]
    },
    {
     "data": {
      "image/png": "[encoded data removed]",
      "text/plain": [
       "<Figure size 842.4x595.44 with 1 Axes>"
      ]
     },
     "metadata": {},
     "output_type": "display_data"
    }
   ],
   "source": [
    "LR_fit(X_train, X_test,['temp', 'atemp', 'casual'])"
   ]
  }
 ],
 "metadata": {
  "kernelspec": {
   "display_name": "Python 3",
   "language": "python",
   "name": "python3"
  },
  "language_info": {
   "codemirror_mode": {
    "name": "ipython",
    "version": 3
   },
   "file_extension": ".py",
   "mimetype": "text/x-python",
   "name": "python",
   "nbconvert_exporter": "python",
   "pygments_lexer": "ipython3",
   "version": "3.7.6"
  }
 },
 "nbformat": 4,
 "nbformat_minor": 4
}
