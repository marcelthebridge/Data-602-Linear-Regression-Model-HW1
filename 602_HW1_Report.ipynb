{
 "cells": [
  {
   "cell_type": "markdown",
   "metadata": {},
   "source": [
    "# Project Scope\n",
    "\n",
    "With COVID-19 drastically changing the daily lives of city dwellers, we are banking on an increased interest in bikes as transportation.  While not everyone is able to or interested in owning their own, we believe a bikeshare model will provide service for citizens, as well as a stable business opportunity for our company.  \n",
    "\n",
    "### How many bikes will ne needed?\n",
    "\n",
    "We want to ensure we have enough bicycles available at any given time.  We need to account for seasonal interest, assuming growth in nicer weather and shirnkage during colder months.\n",
    "\n",
    "\n",
    "Too few, and we risk turning off customers by lack of availability when they are sought\n",
    "\n",
    "Too many, and we run the chance of not recouping expenses from initial costs, maintenance, staffing...etc\n",
    "\n",
    "### The variables in question.\n",
    "\n",
    "Looking at two years of DC metro bike share, we have identified some very helpful variables to reach our goals\n",
    "\n",
    "* Temperature and Ambient temperature ('temp','atemp')\n",
    "    * A large signifier of interest in riding, especially for the casual rider\n",
    "* Casual and Registered ridersghip ('casual','registered')\n",
    "    * Casual riders are those who can be thought of as the tourist or leisurely rider.  This numbers can be expected to rise with nicer (warmer) temperatures\n",
    "    * Registered riders are those who are likely commuters, who will likely be riding in unfavorable conditions as much as favorable conditions"
   ]
  },
  {
   "cell_type": "code",
   "execution_count": 1,
   "metadata": {
    "ExecuteTime": {
     "end_time": "2020-09-22T17:16:44.636635Z",
     "start_time": "2020-09-22T17:16:42.659963Z"
    }
   },
   "outputs": [],
   "source": [
    "\"\"\" \n",
    "Master list of imports\n",
    "\"\"\"\n",
    "\n",
    "import pandas as pd\n",
    "import numpy as np\n",
    "import matplotlib.pyplot as plt\n",
    "import seaborn as sns\n",
    "from sklearn.model_selection import train_test_split\n",
    "from sklearn.linear_model import LinearRegression\n",
    "import statsmodels.api as sm\n",
    "\n",
    "LineR = LinearRegression()"
   ]
  },
  {
   "cell_type": "code",
   "execution_count": 9,
   "metadata": {
    "ExecuteTime": {
     "end_time": "2020-09-22T17:18:51.609255Z",
     "start_time": "2020-09-22T17:18:51.573378Z"
    }
   },
   "outputs": [
    {
     "data": {
      "text/html": [
       "<div>\n",
       "<style scoped>\n",
       "    .dataframe tbody tr th:only-of-type {\n",
       "        vertical-align: middle;\n",
       "    }\n",
       "\n",
       "    .dataframe tbody tr th {\n",
       "        vertical-align: top;\n",
       "    }\n",
       "\n",
       "    .dataframe thead th {\n",
       "        text-align: right;\n",
       "    }\n",
       "</style>\n",
       "<table border=\"1\" class=\"dataframe\">\n",
       "  <thead>\n",
       "    <tr style=\"text-align: right;\">\n",
       "      <th></th>\n",
       "      <th>temp</th>\n",
       "      <th>atemp</th>\n",
       "      <th>hum</th>\n",
       "      <th>windspeed</th>\n",
       "      <th>casual</th>\n",
       "      <th>registered</th>\n",
       "      <th>cnt</th>\n",
       "    </tr>\n",
       "  </thead>\n",
       "  <tbody>\n",
       "    <tr>\n",
       "      <th>count</th>\n",
       "      <td>730.000000</td>\n",
       "      <td>730.000000</td>\n",
       "      <td>730.000000</td>\n",
       "      <td>730.000000</td>\n",
       "      <td>730.000000</td>\n",
       "      <td>730.000000</td>\n",
       "      <td>730.000000</td>\n",
       "    </tr>\n",
       "    <tr>\n",
       "      <th>mean</th>\n",
       "      <td>20.319259</td>\n",
       "      <td>23.726322</td>\n",
       "      <td>62.765175</td>\n",
       "      <td>12.763620</td>\n",
       "      <td>849.249315</td>\n",
       "      <td>3658.757534</td>\n",
       "      <td>4508.006849</td>\n",
       "    </tr>\n",
       "    <tr>\n",
       "      <th>std</th>\n",
       "      <td>7.506729</td>\n",
       "      <td>8.150308</td>\n",
       "      <td>14.237589</td>\n",
       "      <td>5.195841</td>\n",
       "      <td>686.479875</td>\n",
       "      <td>1559.758728</td>\n",
       "      <td>1936.011647</td>\n",
       "    </tr>\n",
       "    <tr>\n",
       "      <th>min</th>\n",
       "      <td>2.424346</td>\n",
       "      <td>3.953480</td>\n",
       "      <td>0.000000</td>\n",
       "      <td>1.500244</td>\n",
       "      <td>2.000000</td>\n",
       "      <td>20.000000</td>\n",
       "      <td>22.000000</td>\n",
       "    </tr>\n",
       "    <tr>\n",
       "      <th>25%</th>\n",
       "      <td>13.811885</td>\n",
       "      <td>16.889713</td>\n",
       "      <td>52.000000</td>\n",
       "      <td>9.041650</td>\n",
       "      <td>316.250000</td>\n",
       "      <td>2502.250000</td>\n",
       "      <td>3169.750000</td>\n",
       "    </tr>\n",
       "    <tr>\n",
       "      <th>50%</th>\n",
       "      <td>20.465826</td>\n",
       "      <td>24.368225</td>\n",
       "      <td>62.625000</td>\n",
       "      <td>12.125325</td>\n",
       "      <td>717.000000</td>\n",
       "      <td>3664.500000</td>\n",
       "      <td>4548.500000</td>\n",
       "    </tr>\n",
       "    <tr>\n",
       "      <th>75%</th>\n",
       "      <td>26.880615</td>\n",
       "      <td>30.445775</td>\n",
       "      <td>72.989575</td>\n",
       "      <td>15.625589</td>\n",
       "      <td>1096.500000</td>\n",
       "      <td>4783.250000</td>\n",
       "      <td>5966.000000</td>\n",
       "    </tr>\n",
       "    <tr>\n",
       "      <th>max</th>\n",
       "      <td>35.328347</td>\n",
       "      <td>42.044800</td>\n",
       "      <td>97.250000</td>\n",
       "      <td>34.000021</td>\n",
       "      <td>3410.000000</td>\n",
       "      <td>6946.000000</td>\n",
       "      <td>8714.000000</td>\n",
       "    </tr>\n",
       "  </tbody>\n",
       "</table>\n",
       "</div>"
      ],
      "text/plain": [
       "             temp       atemp         hum   windspeed       casual  \\\n",
       "count  730.000000  730.000000  730.000000  730.000000   730.000000   \n",
       "mean    20.319259   23.726322   62.765175   12.763620   849.249315   \n",
       "std      7.506729    8.150308   14.237589    5.195841   686.479875   \n",
       "min      2.424346    3.953480    0.000000    1.500244     2.000000   \n",
       "25%     13.811885   16.889713   52.000000    9.041650   316.250000   \n",
       "50%     20.465826   24.368225   62.625000   12.125325   717.000000   \n",
       "75%     26.880615   30.445775   72.989575   15.625589  1096.500000   \n",
       "max     35.328347   42.044800   97.250000   34.000021  3410.000000   \n",
       "\n",
       "        registered          cnt  \n",
       "count   730.000000   730.000000  \n",
       "mean   3658.757534  4508.006849  \n",
       "std    1559.758728  1936.011647  \n",
       "min      20.000000    22.000000  \n",
       "25%    2502.250000  3169.750000  \n",
       "50%    3664.500000  4548.500000  \n",
       "75%    4783.250000  5966.000000  \n",
       "max    6946.000000  8714.000000  "
      ]
     },
     "execution_count": 9,
     "metadata": {},
     "output_type": "execute_result"
    }
   ],
   "source": [
    "df_dirty = pd.read_csv(r\"C:\\Users\\marce\\Documents\\Graduate School\\Data 602\\Linear Regression HW\\Bike\\Bikeshare.csv\")\n",
    "df = df_dirty.dropna()\n",
    "df = df[['temp', 'atemp' ,'hum','windspeed','casual','registered','cnt']]\n",
    "\n",
    "df.describe()"
   ]
  },
  {
   "cell_type": "code",
   "execution_count": 3,
   "metadata": {
    "ExecuteTime": {
     "end_time": "2020-09-22T17:16:44.676532Z",
     "start_time": "2020-09-22T17:16:44.668518Z"
    }
   },
   "outputs": [
    {
     "name": "stdout",
     "output_type": "stream",
     "text": [
      "Training Data Shape: (584, 7) Testing Data Shape: (146, 7)\n"
     ]
    }
   ],
   "source": [
    "X_train, X_test = train_test_split(df, test_size = 0.2)\n",
    "\n",
    "print(\"Training Data Shape:\" ,X_train.shape,\"Testing Data Shape:\", X_test.shape)"
   ]
  },
  {
   "cell_type": "code",
   "execution_count": null,
   "metadata": {},
   "outputs": [],
   "source": []
  },
  {
   "cell_type": "markdown",
   "metadata": {},
   "source": [
    "# This is the modeling framework for each set of feaures.  \n",
    "\n",
    "* Variables and Arguments needed:\n",
    "    * train : the training set\n",
    "    * test : the test set\n",
    "    * feat : the features used in training\n",
    "    * y_feat : the feature we are trying to predict"
   ]
  },
  {
   "cell_type": "code",
   "execution_count": 4,
   "metadata": {
    "ExecuteTime": {
     "end_time": "2020-09-22T17:16:44.685506Z",
     "start_time": "2020-09-22T17:16:44.677496Z"
    }
   },
   "outputs": [],
   "source": [
    "\"\"\"\n",
    "train: the training set\n",
    "test: the test set\n",
    "feat: features must be in brackets ['feat1','feat2', ...etc]\n",
    "\"\"\"\n",
    "\n",
    "def LR_fit(train, test, feat):\n",
    "        \n",
    "    LineR.fit(train[feat] , train.cnt)\n",
    "    print(\"Intercept::\", LineR.intercept_, \"Coefficient\", LineR.coef_)\n",
    "    r_square = LineR.score(train[feat], train.cnt)\n",
    "    print(\"R-squared value: \", r_square)\n",
    "    \n",
    "    X = train[feat]\n",
    "    y = train.cnt\n",
    "    X = sm.add_constant(X)\n",
    "    mod = sm.OLS(y, X, hasconst= True)\n",
    "    res = mod.fit()\n",
    "    print(res.summary())\n",
    "    \n",
    "    Xtest = test[feat]\n",
    "    ytest = test.cnt\n",
    "    Xtest = sm.add_constant(Xtest)\n",
    "    y_predict = res.predict(Xtest)\n",
    "    \n",
    "    print(\"Predicted y values\", y_predict)    \n",
    "    residuals = res.resid\n",
    "\n",
    "    y_pred = res.predict(X)\n",
    "    plt.scatter(y_pred, residuals)\n",
    "    plt.axhline(y=0, color='red', label='0')\n",
    "    plt.xlabel('predicted values')\n",
    "    plt.ylabel('residuals')\n",
    "    plt.tight_layout()\n",
    "    \n",
    "    X_test['Predicted'] = y_predict\n",
    "    \n",
    "    print(X_test[['Predicted','cnt']])\n",
    "    "
   ]
  },
  {
   "cell_type": "markdown",
   "metadata": {},
   "source": [
    "## Regression temp/atemp"
   ]
  },
  {
   "cell_type": "code",
   "execution_count": 5,
   "metadata": {
    "ExecuteTime": {
     "end_time": "2020-09-22T17:16:44.961735Z",
     "start_time": "2020-09-22T17:16:44.688467Z"
    },
    "scrolled": true
   },
   "outputs": [
    {
     "name": "stdout",
     "output_type": "stream",
     "text": [
      "Intercept:: 1014.2008704148157 Coefficient [56.48640143 98.44301748]\n",
      "R-squared value:  0.4007277318209975\n",
      "                            OLS Regression Results                            \n",
      "==============================================================================\n",
      "Dep. Variable:                    cnt   R-squared:                       0.401\n",
      "Model:                            OLS   Adj. R-squared:                  0.399\n",
      "Method:                 Least Squares   F-statistic:                     194.3\n",
      "Date:                Tue, 22 Sep 2020   Prob (F-statistic):           2.51e-65\n",
      "Time:                        13:16:44   Log-Likelihood:                -5107.9\n",
      "No. Observations:                 584   AIC:                         1.022e+04\n",
      "Df Residuals:                     581   BIC:                         1.023e+04\n",
      "Df Model:                           2                                         \n",
      "Covariance Type:            nonrobust                                         \n",
      "==============================================================================\n",
      "                 coef    std err          t      P>|t|      [0.025      0.975]\n",
      "------------------------------------------------------------------------------\n",
      "const       1014.2009    204.864      4.951      0.000     611.837    1416.565\n",
      "temp          56.4864     61.048      0.925      0.355     -63.414     176.387\n",
      "atemp         98.4430     56.025      1.757      0.079     -11.592     208.479\n",
      "==============================================================================\n",
      "Omnibus:                       12.309   Durbin-Watson:                   1.915\n",
      "Prob(Omnibus):                  0.002   Jarque-Bera (JB):                8.576\n",
      "Skew:                           0.171   Prob(JB):                       0.0137\n",
      "Kurtosis:                       2.515   Cond. No.                         109.\n",
      "==============================================================================\n",
      "\n",
      "Warnings:\n",
      "[1] Standard Errors assume that the covariance matrix of the errors is correctly specified.\n",
      "Predicted y values 449    4206.318141\n",
      "613    5853.269765\n",
      "181    5897.509055\n",
      "619    5207.832325\n",
      "322    3373.686984\n",
      "          ...     \n",
      "37     3138.016500\n",
      "576    5929.113178\n",
      "18     3159.737150\n",
      "166    5399.766778\n",
      "497    5313.345360\n",
      "Length: 146, dtype: float64\n",
      "       Predicted   cnt\n",
      "449  4206.318141  5558\n",
      "613  5853.269765  6203\n",
      "181  5897.509055  5362\n",
      "619  5207.832325  7870\n",
      "322  3373.686984  3663\n",
      "..           ...   ...\n",
      "37   3138.016500  1712\n",
      "576  5929.113178  7216\n",
      "18   3159.737150  1650\n",
      "166  5399.766778  3767\n",
      "497  5313.345360  6118\n",
      "\n",
      "[146 rows x 2 columns]\n"
     ]
    },
    {
     "name": "stderr",
     "output_type": "stream",
     "text": [
      "C:\\Users\\marce\\anaconda3\\lib\\site-packages\\ipykernel_launcher.py:36: SettingWithCopyWarning: \n",
      "A value is trying to be set on a copy of a slice from a DataFrame.\n",
      "Try using .loc[row_indexer,col_indexer] = value instead\n",
      "\n",
      "See the caveats in the documentation: https://pandas.pydata.org/pandas-docs/stable/user_guide/indexing.html#returning-a-view-versus-a-copy\n"
     ]
    },
    {
     "data": {
      "image/png": "[encoded data removed]",
      "text/plain": [
       "<Figure size 432x288 with 1 Axes>"
      ]
     },
     "metadata": {
      "needs_background": "light"
     },
     "output_type": "display_data"
    }
   ],
   "source": [
    "LR_fit(X_train, X_test, ['temp','atemp'])"
   ]
  },
  {
   "cell_type": "markdown",
   "metadata": {},
   "source": [
    "## Regression casual riders"
   ]
  },
  {
   "cell_type": "code",
   "execution_count": 6,
   "metadata": {
    "ExecuteTime": {
     "end_time": "2020-09-22T17:16:45.214060Z",
     "start_time": "2020-09-22T17:16:44.963728Z"
    },
    "scrolled": false
   },
   "outputs": [
    {
     "name": "stdout",
     "output_type": "stream",
     "text": [
      "Intercept:: 2838.545958925083 Coefficient [1.92658987]\n",
      "R-squared value:  0.4632111676466727\n",
      "                            OLS Regression Results                            \n",
      "==============================================================================\n",
      "Dep. Variable:                    cnt   R-squared:                       0.463\n",
      "Model:                            OLS   Adj. R-squared:                  0.462\n",
      "Method:                 Least Squares   F-statistic:                     502.2\n",
      "Date:                Tue, 22 Sep 2020   Prob (F-statistic):           1.14e-80\n",
      "Time:                        13:16:44   Log-Likelihood:                -5075.8\n",
      "No. Observations:                 584   AIC:                         1.016e+04\n",
      "Df Residuals:                     582   BIC:                         1.016e+04\n",
      "Df Model:                           1                                         \n",
      "Covariance Type:            nonrobust                                         \n",
      "==============================================================================\n",
      "                 coef    std err          t      P>|t|      [0.025      0.975]\n",
      "------------------------------------------------------------------------------\n",
      "const       2838.5460     94.124     30.157      0.000    2653.681    3023.411\n",
      "casual         1.9266      0.086     22.410      0.000       1.758       2.095\n",
      "==============================================================================\n",
      "Omnibus:                       47.557   Durbin-Watson:                   1.893\n",
      "Prob(Omnibus):                  0.000   Jarque-Bera (JB):               21.929\n",
      "Skew:                           0.277   Prob(JB):                     1.73e-05\n",
      "Kurtosis:                       2.228   Cond. No.                     1.73e+03\n",
      "==============================================================================\n",
      "\n",
      "Warnings:\n",
      "[1] Standard Errors assume that the covariance matrix of the errors is correctly specified.\n",
      "[2] The condition number is large, 1.73e+03. This might indicate that there are\n",
      "strong multicollinearity or other numerical problems.\n",
      "Predicted y values 449    4370.184905\n",
      "613    4015.692369\n",
      "181    5239.076935\n",
      "619    4861.465321\n",
      "322    4655.320205\n",
      "          ...     \n",
      "37     3069.736743\n",
      "576    4703.484952\n",
      "18     2988.819969\n",
      "166    3888.537437\n",
      "497    7023.099154\n",
      "Length: 146, dtype: float64\n",
      "       Predicted   cnt\n",
      "449  4370.184905  5558\n",
      "613  4015.692369  6203\n",
      "181  5239.076935  5362\n",
      "619  4861.465321  7870\n",
      "322  4655.320205  3663\n",
      "..           ...   ...\n",
      "37   3069.736743  1712\n",
      "576  4703.484952  7216\n",
      "18   2988.819969  1650\n",
      "166  3888.537437  3767\n",
      "497  7023.099154  6118\n",
      "\n",
      "[146 rows x 2 columns]\n"
     ]
    },
    {
     "name": "stderr",
     "output_type": "stream",
     "text": [
      "C:\\Users\\marce\\anaconda3\\lib\\site-packages\\ipykernel_launcher.py:36: SettingWithCopyWarning: \n",
      "A value is trying to be set on a copy of a slice from a DataFrame.\n",
      "Try using .loc[row_indexer,col_indexer] = value instead\n",
      "\n",
      "See the caveats in the documentation: https://pandas.pydata.org/pandas-docs/stable/user_guide/indexing.html#returning-a-view-versus-a-copy\n"
     ]
    },
    {
     "data": {
      "image/png": "[encoded data removed]",
      "text/plain": [
       "<Figure size 432x288 with 1 Axes>"
      ]
     },
     "metadata": {
      "needs_background": "light"
     },
     "output_type": "display_data"
    }
   ],
   "source": [
    "LR_fit(X_train, X_test, ['casual'])"
   ]
  },
  {
   "cell_type": "markdown",
   "metadata": {},
   "source": [
    "## Regression registered riders"
   ]
  },
  {
   "cell_type": "code",
   "execution_count": 7,
   "metadata": {
    "ExecuteTime": {
     "end_time": "2020-09-22T17:16:45.464390Z",
     "start_time": "2020-09-22T17:16:45.215058Z"
    },
    "scrolled": true
   },
   "outputs": [
    {
     "name": "stdout",
     "output_type": "stream",
     "text": [
      "Intercept:: 195.93793072707012 Coefficient [1.17957512]\n",
      "R-squared value:  0.895969162208459\n",
      "                            OLS Regression Results                            \n",
      "==============================================================================\n",
      "Dep. Variable:                    cnt   R-squared:                       0.896\n",
      "Model:                            OLS   Adj. R-squared:                  0.896\n",
      "Method:                 Least Squares   F-statistic:                     5012.\n",
      "Date:                Tue, 22 Sep 2020   Prob (F-statistic):          3.45e-288\n",
      "Time:                        13:16:45   Log-Likelihood:                -4596.6\n",
      "No. Observations:                 584   AIC:                             9197.\n",
      "Df Residuals:                     582   BIC:                             9206.\n",
      "Df Model:                           1                                         \n",
      "Covariance Type:            nonrobust                                         \n",
      "==============================================================================\n",
      "                 coef    std err          t      P>|t|      [0.025      0.975]\n",
      "------------------------------------------------------------------------------\n",
      "const        195.9379     65.833      2.976      0.003      66.638     325.238\n",
      "registered     1.1796      0.017     70.799      0.000       1.147       1.212\n",
      "==============================================================================\n",
      "Omnibus:                      158.818   Durbin-Watson:                   2.051\n",
      "Prob(Omnibus):                  0.000   Jarque-Bera (JB):              317.542\n",
      "Skew:                           1.533   Prob(JB):                     1.11e-69\n",
      "Kurtosis:                       4.910   Cond. No.                     9.90e+03\n",
      "==============================================================================\n",
      "\n",
      "Warnings:\n",
      "[1] Standard Errors assume that the covariance matrix of the errors is correctly specified.\n",
      "[2] The condition number is large, 9.9e+03. This might indicate that there are\n",
      "strong multicollinearity or other numerical problems.\n",
      "Predicted y values 449    5814.254239\n",
      "613    6792.122016\n",
      "181    5051.069135\n",
      "619    8240.640266\n",
      "322    3404.382264\n",
      "          ...     \n",
      "37     2073.821526\n",
      "576    7565.923296\n",
      "18     2050.230023\n",
      "166    3996.528975\n",
      "497    4850.541364\n",
      "Length: 146, dtype: float64\n",
      "       Predicted   cnt\n",
      "449  5814.254239  5558\n",
      "613  6792.122016  6203\n",
      "181  5051.069135  5362\n",
      "619  8240.640266  7870\n",
      "322  3404.382264  3663\n",
      "..           ...   ...\n",
      "37   2073.821526  1712\n",
      "576  7565.923296  7216\n",
      "18   2050.230023  1650\n",
      "166  3996.528975  3767\n",
      "497  4850.541364  6118\n",
      "\n",
      "[146 rows x 2 columns]\n"
     ]
    },
    {
     "name": "stderr",
     "output_type": "stream",
     "text": [
      "C:\\Users\\marce\\anaconda3\\lib\\site-packages\\ipykernel_launcher.py:36: SettingWithCopyWarning: \n",
      "A value is trying to be set on a copy of a slice from a DataFrame.\n",
      "Try using .loc[row_indexer,col_indexer] = value instead\n",
      "\n",
      "See the caveats in the documentation: https://pandas.pydata.org/pandas-docs/stable/user_guide/indexing.html#returning-a-view-versus-a-copy\n"
     ]
    },
    {
     "data": {
      "image/png": "[encoded data removed]",
      "text/plain": [
       "<Figure size 432x288 with 1 Axes>"
      ]
     },
     "metadata": {
      "needs_background": "light"
     },
     "output_type": "display_data"
    }
   ],
   "source": [
    "LR_fit(X_train, X_test, ['registered'])"
   ]
  },
  {
   "cell_type": "markdown",
   "metadata": {},
   "source": [
    "## Combined regression (temp, atemp, casual, registered"
   ]
  },
  {
   "cell_type": "code",
   "execution_count": 8,
   "metadata": {
    "ExecuteTime": {
     "end_time": "2020-09-22T17:16:45.676821Z",
     "start_time": "2020-09-22T17:16:45.467388Z"
    },
    "scrolled": true
   },
   "outputs": [
    {
     "name": "stdout",
     "output_type": "stream",
     "text": [
      "Intercept:: -273.86171232861125 Coefficient [19.51402804 20.34830133  1.06931396]\n",
      "R-squared value:  0.9140047236138248\n",
      "                            OLS Regression Results                            \n",
      "==============================================================================\n",
      "Dep. Variable:                    cnt   R-squared:                       0.914\n",
      "Model:                            OLS   Adj. R-squared:                  0.914\n",
      "Method:                 Least Squares   F-statistic:                     2055.\n",
      "Date:                Tue, 22 Sep 2020   Prob (F-statistic):          1.83e-308\n",
      "Time:                        13:16:45   Log-Likelihood:                -4541.0\n",
      "No. Observations:                 584   AIC:                             9090.\n",
      "Df Residuals:                     580   BIC:                             9108.\n",
      "Df Model:                           3                                         \n",
      "Covariance Type:            nonrobust                                         \n",
      "==============================================================================\n",
      "                 coef    std err          t      P>|t|      [0.025      0.975]\n",
      "------------------------------------------------------------------------------\n",
      "const       -273.8617     80.698     -3.394      0.001    -432.358    -115.365\n",
      "atemp         19.5140     21.283      0.917      0.360     -22.288      61.316\n",
      "temp          20.3483     23.154      0.879      0.380     -25.127      65.824\n",
      "registered     1.0693      0.018     58.837      0.000       1.034       1.105\n",
      "==============================================================================\n",
      "Omnibus:                      179.145   Durbin-Watson:                   2.123\n",
      "Prob(Omnibus):                  0.000   Jarque-Bera (JB):              414.388\n",
      "Skew:                           1.625   Prob(JB):                     1.04e-90\n",
      "Kurtosis:                       5.542   Cond. No.                     1.35e+04\n",
      "==============================================================================\n",
      "\n",
      "Warnings:\n",
      "[1] Standard Errors assume that the covariance matrix of the errors is correctly specified.\n",
      "[2] The condition number is large, 1.35e+04. This might indicate that there are\n",
      "strong multicollinearity or other numerical problems.\n",
      "Predicted y values 449    5619.319363\n",
      "613    6926.362945\n",
      "181    5366.517464\n",
      "619    8074.955701\n",
      "322    3225.888327\n",
      "          ...     \n",
      "37     1951.412083\n",
      "576    7649.120149\n",
      "18     1942.025619\n",
      "166    4276.553659\n",
      "497    5027.665412\n",
      "Length: 146, dtype: float64\n",
      "       Predicted   cnt\n",
      "449  5619.319363  5558\n",
      "613  6926.362945  6203\n",
      "181  5366.517464  5362\n",
      "619  8074.955701  7870\n",
      "322  3225.888327  3663\n",
      "..           ...   ...\n",
      "37   1951.412083  1712\n",
      "576  7649.120149  7216\n",
      "18   1942.025619  1650\n",
      "166  4276.553659  3767\n",
      "497  5027.665412  6118\n",
      "\n",
      "[146 rows x 2 columns]\n"
     ]
    },
    {
     "name": "stderr",
     "output_type": "stream",
     "text": [
      "C:\\Users\\marce\\anaconda3\\lib\\site-packages\\ipykernel_launcher.py:36: SettingWithCopyWarning: \n",
      "A value is trying to be set on a copy of a slice from a DataFrame.\n",
      "Try using .loc[row_indexer,col_indexer] = value instead\n",
      "\n",
      "See the caveats in the documentation: https://pandas.pydata.org/pandas-docs/stable/user_guide/indexing.html#returning-a-view-versus-a-copy\n"
     ]
    },
    {
     "data": {
      "image/png": "[encoded data removed]",
      "text/plain": [
       "<Figure size 432x288 with 1 Axes>"
      ]
     },
     "metadata": {
      "needs_background": "light"
     },
     "output_type": "display_data"
    }
   ],
   "source": [
    "LR_fit(X_train, X_test, ['atemp','temp','registered'])"
   ]
  },
  {
   "cell_type": "markdown",
   "metadata": {},
   "source": [
    "# Findings\n",
    "\n",
    " ### While temperature/ambient temperature was where we had hoped to find the best indicator, it appears daily registerd users are by far the strongest predictor.  "
   ]
  }
 ],
 "metadata": {
  "kernelspec": {
   "display_name": "Python 3",
   "language": "python",
   "name": "python3"
  },
  "language_info": {
   "codemirror_mode": {
    "name": "ipython",
    "version": 3
   },
   "file_extension": ".py",
   "mimetype": "text/x-python",
   "name": "python",
   "nbconvert_exporter": "python",
   "pygments_lexer": "ipython3",
   "version": "3.7.6"
  }
 },
 "nbformat": 4,
 "nbformat_minor": 4
}
